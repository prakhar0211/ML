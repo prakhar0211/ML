{
  "nbformat": 4,
  "nbformat_minor": 0,
  "metadata": {
    "colab": {
      "name": "PROJECT 1",
      "provenance": [],
      "collapsed_sections": [],
      "authorship_tag": "ABX9TyPmZVACFt+iGEm7pEHMd8J3",
      "include_colab_link": true
    },
    "kernelspec": {
      "name": "python3",
      "display_name": "Python 3"
    }
  },
  "cells": [
    {
      "cell_type": "markdown",
      "metadata": {
        "id": "view-in-github",
        "colab_type": "text"
      },
      "source": [
        "<a href=\"https://colab.research.google.com/github/prakhar0211/ML/blob/main/PROJECT_1.ipynb\" target=\"_parent\"><img src=\"https://colab.research.google.com/assets/colab-badge.svg\" alt=\"Open In Colab\"/></a>"
      ]
    },
    {
      "cell_type": "code",
      "metadata": {
        "id": "B1QDF659jOfv"
      },
      "source": [
        "import tensorflow as tf\r\n",
        "from tensorflow.keras.models import Sequential\r\n",
        "from tensorflow.keras.layers import Input, Dense\r\n",
        "import numpy as np"
      ],
      "execution_count": null,
      "outputs": []
    },
    {
      "cell_type": "code",
      "metadata": {
        "id": "aMJKxPFq1pjv"
      },
      "source": [
        ""
      ],
      "execution_count": null,
      "outputs": []
    },
    {
      "cell_type": "code",
      "metadata": {
        "id": "9vpjcguahGFZ"
      },
      "source": [
        "from keras.datasets import fashion_mnist\r\n",
        "\r\n",
        "data = fashion_mnist.load_data()"
      ],
      "execution_count": null,
      "outputs": []
    },
    {
      "cell_type": "code",
      "metadata": {
        "id": "zfUVz69khwZV"
      },
      "source": [
        "(X_train, Y_train),(X_test, Y_test) = fashion_mnist.load_data()"
      ],
      "execution_count": null,
      "outputs": []
    },
    {
      "cell_type": "code",
      "metadata": {
        "colab": {
          "base_uri": "https://localhost:8080/",
          "height": 1000
        },
        "id": "YXBesH4qu6Mf",
        "outputId": "8bc826bd-76e0-4534-c320-2e483a76846a"
      },
      "source": [
        "plt.figure()\r\n",
        "plt.imshow(X_train[0])\r\n",
        "plt.figure()\r\n",
        "plt.imshow(X_train[8])\r\n",
        "plt.figure()\r\n",
        "plt.imshow(X_train[5])\r\n",
        "plt.figure()\r\n",
        "plt.imshow(X_train[3])\r\n",
        "plt.show()"
      ],
      "execution_count": null,
      "outputs": [
        {
          "output_type": "display_data",
          "data": {
            "image/png": "[encoded data removed]",
            "text/plain": [
              "<Figure size 432x288 with 1 Axes>"
            ]
          },
          "metadata": {
            "tags": [],
            "needs_background": "light"
          }
        },
        {
          "output_type": "display_data",
          "data": {
            "image/png": "[encoded data removed]",
            "text/plain": [
              "<Figure size 432x288 with 1 Axes>"
            ]
          },
          "metadata": {
            "tags": [],
            "needs_background": "light"
          }
        },
        {
          "output_type": "display_data",
          "data": {
            "image/png": "[encoded data removed]",
            "text/plain": [
              "<Figure size 432x288 with 1 Axes>"
            ]
          },
          "metadata": {
            "tags": [],
            "needs_background": "light"
          }
        },
        {
          "output_type": "display_data",
          "data": {
            "image/png": "[encoded data removed]",
            "text/plain": [
              "<Figure size 432x288 with 1 Axes>"
            ]
          },
          "metadata": {
            "tags": [],
            "needs_background": "light"
          }
        }
      ]
    },
    {
      "cell_type": "code",
      "metadata": {
        "colab": {
          "base_uri": "https://localhost:8080/"
        },
        "id": "-K8ftq5kktsL",
        "outputId": "4f90be7f-f80b-4937-986b-48f7e43b776a"
      },
      "source": [
        "X_train[0].shape"
      ],
      "execution_count": null,
      "outputs": [
        {
          "output_type": "execute_result",
          "data": {
            "text/plain": [
              "(28, 28)"
            ]
          },
          "metadata": {
            "tags": []
          },
          "execution_count": 89
        }
      ]
    },
    {
      "cell_type": "code",
      "metadata": {
        "id": "759w8eVolCAH"
      },
      "source": [
        "X_train = X_train.reshape((X_train.shape[0], 28*28)).astype('float32')\r\n",
        "X_test = X_test.reshape((X_test.shape[0], 28*28)).astype('float32')"
      ],
      "execution_count": null,
      "outputs": []
    },
    {
      "cell_type": "code",
      "metadata": {
        "id": "Bc-WuR6jlsrM"
      },
      "source": [
        "X_train = X_train / 255\r\n",
        "X_test = X_test / 255"
      ],
      "execution_count": null,
      "outputs": []
    },
    {
      "cell_type": "code",
      "metadata": {
        "colab": {
          "base_uri": "https://localhost:8080/"
        },
        "id": "kFhBoaDvmIse",
        "outputId": "458b837e-1dfc-49b5-b33f-c1598e2d1853"
      },
      "source": [
        "from keras.utils import np_utils\r\n",
        "\r\n",
        "Y_train = np_utils.to_categorical(Y_train)\r\n",
        "Y_test = np_utils.to_categorical(Y_test)\r\n",
        "num_classes = Y_test.shape[1]\r\n",
        "num_classes"
      ],
      "execution_count": null,
      "outputs": [
        {
          "output_type": "execute_result",
          "data": {
            "text/plain": [
              "10"
            ]
          },
          "metadata": {
            "tags": []
          },
          "execution_count": 92
        }
      ]
    },
    {
      "cell_type": "code",
      "metadata": {
        "id": "lzbvj1wknPEf"
      },
      "source": [
        "from keras.models import Sequential\r\n",
        "from keras.layers import Dense\r\n",
        "from keras.layers import Dropout"
      ],
      "execution_count": null,
      "outputs": []
    },
    {
      "cell_type": "code",
      "metadata": {
        "id": "g6tfk19cnn7X"
      },
      "source": [
        "model = Sequential()\r\n",
        "model.add(Dense(64, input_dim=28*28, activation='relu')) #hidden layer 1\r\n",
        "model.add(Dense(38,  activation='relu')) #hidden layer 2\r\n",
        "model.add(Dense(128,  activation='relu')) #hidden layer 3\r\n",
        "model.add(Dense(80,  activation='relu')) #hidden layer 4\r\n",
        "model.add(Dense(100,  activation='relu')) #hidden layer 5\r\n",
        "model.add(Dense(10,  activation='softmax')) #output layer "
      ],
      "execution_count": null,
      "outputs": []
    },
    {
      "cell_type": "code",
      "metadata": {
        "id": "rJceWalRome-"
      },
      "source": [
        "model.compile(loss='categorical_crossentropy' , optimizer='adam', metrics=['accuracy'])"
      ],
      "execution_count": null,
      "outputs": []
    },
    {
      "cell_type": "code",
      "metadata": {
        "colab": {
          "base_uri": "https://localhost:8080/"
        },
        "id": "9E3S2VFipFam",
        "outputId": "80c95955-87dc-4578-ed7d-8703d0889562"
      },
      "source": [
        "model.summary()"
      ],
      "execution_count": null,
      "outputs": [
        {
          "output_type": "stream",
          "text": [
            "Model: \"sequential_5\"\n",
            "_________________________________________________________________\n",
            "Layer (type)                 Output Shape              Param #   \n",
            "=================================================================\n",
            "dense_24 (Dense)             (None, 64)                50240     \n",
            "_________________________________________________________________\n",
            "dense_25 (Dense)             (None, 38)                2470      \n",
            "_________________________________________________________________\n",
            "dense_26 (Dense)             (None, 128)               4992      \n",
            "_________________________________________________________________\n",
            "dense_27 (Dense)             (None, 80)                10320     \n",
            "_________________________________________________________________\n",
            "dense_28 (Dense)             (None, 100)               8100      \n",
            "_________________________________________________________________\n",
            "dense_29 (Dense)             (None, 10)                1010      \n",
            "=================================================================\n",
            "Total params: 77,132\n",
            "Trainable params: 77,132\n",
            "Non-trainable params: 0\n",
            "_________________________________________________________________\n"
          ],
          "name": "stdout"
        }
      ]
    },
    {
      "cell_type": "code",
      "metadata": {
        "colab": {
          "base_uri": "https://localhost:8080/"
        },
        "id": "dB2K7lGipSf_",
        "outputId": "120d647a-9428-4de7-a733-4f3076e21a68"
      },
      "source": [
        "model.fit(X_train, Y_train, validation_split=0.2 , epochs=10 , batch_size=100)"
      ],
      "execution_count": null,
      "outputs": [
        {
          "output_type": "stream",
          "text": [
            "Epoch 1/10\n",
            "480/480 [==============================] - 3s 4ms/step - loss: 0.8538 - accuracy: 0.7063 - val_loss: 0.4535 - val_accuracy: 0.8394\n",
            "Epoch 2/10\n",
            "480/480 [==============================] - 2s 4ms/step - loss: 0.4174 - accuracy: 0.8501 - val_loss: 0.3973 - val_accuracy: 0.8627\n",
            "Epoch 3/10\n",
            "480/480 [==============================] - 2s 4ms/step - loss: 0.3699 - accuracy: 0.8640 - val_loss: 0.3686 - val_accuracy: 0.8674\n",
            "Epoch 4/10\n",
            "480/480 [==============================] - 2s 4ms/step - loss: 0.3331 - accuracy: 0.8763 - val_loss: 0.3520 - val_accuracy: 0.8739\n",
            "Epoch 5/10\n",
            "480/480 [==============================] - 2s 4ms/step - loss: 0.3131 - accuracy: 0.8845 - val_loss: 0.3485 - val_accuracy: 0.8787\n",
            "Epoch 6/10\n",
            "480/480 [==============================] - 2s 4ms/step - loss: 0.3041 - accuracy: 0.8860 - val_loss: 0.3366 - val_accuracy: 0.8806\n",
            "Epoch 7/10\n",
            "480/480 [==============================] - 2s 4ms/step - loss: 0.2955 - accuracy: 0.8912 - val_loss: 0.3490 - val_accuracy: 0.8798\n",
            "Epoch 8/10\n",
            "480/480 [==============================] - 2s 4ms/step - loss: 0.2859 - accuracy: 0.8932 - val_loss: 0.3605 - val_accuracy: 0.8723\n",
            "Epoch 9/10\n",
            "480/480 [==============================] - 2s 4ms/step - loss: 0.2703 - accuracy: 0.8996 - val_loss: 0.3528 - val_accuracy: 0.8752\n",
            "Epoch 10/10\n",
            "480/480 [==============================] - 2s 4ms/step - loss: 0.2620 - accuracy: 0.9017 - val_loss: 0.3703 - val_accuracy: 0.8704\n"
          ],
          "name": "stdout"
        },
        {
          "output_type": "execute_result",
          "data": {
            "text/plain": [
              "<tensorflow.python.keras.callbacks.History at 0x7f8b780d80f0>"
            ]
          },
          "metadata": {
            "tags": []
          },
          "execution_count": 97
        }
      ]
    },
    {
      "cell_type": "code",
      "metadata": {
        "colab": {
          "base_uri": "https://localhost:8080/"
        },
        "id": "wylnh7enqd41",
        "outputId": "484be2d2-d70b-47d1-8c31-b721a649611e"
      },
      "source": [
        "scores = model.evaluate(X_test, Y_test)\r\n",
        "print(scores)"
      ],
      "execution_count": null,
      "outputs": [
        {
          "output_type": "stream",
          "text": [
            "313/313 [==============================] - 1s 2ms/step - loss: 0.3957 - accuracy: 0.8605\n",
            "[0.3956638276576996, 0.8604999780654907]\n"
          ],
          "name": "stdout"
        }
      ]
    }
  ]
}